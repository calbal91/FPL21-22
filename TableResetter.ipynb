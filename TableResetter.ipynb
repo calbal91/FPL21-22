{
 "cells": [
  {
   "cell_type": "code",
   "execution_count": 1,
   "metadata": {},
   "outputs": [],
   "source": [
    "#Standard data manipulations\n",
    "import pandas as pd\n",
    "import numpy as np\n",
    "\n",
    "from datetime import date\n",
    "import sqlite3\n",
    "import pickle\n",
    "\n",
    "#Import custom functions\n",
    "from PythonFunctions.apicallers import *\n",
    "from PythonFunctions.sqlfunctions import *\n",
    "# from PythonFunctions.matchscrapers import *\n",
    "\n",
    "#Suppress warnings from showing\n",
    "import warnings\n",
    "warnings.filterwarnings('ignore')\n",
    "\n",
    "#Connect to the SQL database\n",
    "conn = sqlite3.connect('Data/21_22fpl.db')\n",
    "#Instantiate a cursor\n",
    "c = conn.cursor()"
   ]
  },
  {
   "cell_type": "code",
   "execution_count": null,
   "metadata": {},
   "outputs": [],
   "source": [
    "try:\n",
    "    sql('''DROP TABLE matches_basic''', c)\n",
    "    \n",
    "except:\n",
    "    pass"
   ]
  },
  {
   "cell_type": "code",
   "execution_count": null,
   "metadata": {},
   "outputs": [],
   "source": [
    "df_matches = df_matches_constructor()"
   ]
  },
  {
   "cell_type": "code",
   "execution_count": null,
   "metadata": {},
   "outputs": [],
   "source": [
    "create_sql_table(df_matches, c, 'matches_basic')\n",
    "\n",
    "populate_sql_from_dataframe(df_matches, 'matches_basic', c)\n",
    "\n",
    "conn.commit()"
   ]
  },
  {
   "cell_type": "code",
   "execution_count": null,
   "metadata": {},
   "outputs": [],
   "source": [
    "df_matches.GameWeek.unique()"
   ]
  },
  {
   "cell_type": "code",
   "execution_count": null,
   "metadata": {},
   "outputs": [],
   "source": [
    "# try:\n",
    "#     sql('''DROP TABLE players_basic''', c)\n",
    "    \n",
    "# except:\n",
    "#     pass\n",
    "\n",
    "# df_players = player_basic_df_generator()\n",
    "\n",
    "# create_sql_table(df_players, c, 'players_basic')\n",
    "\n",
    "# populate_sql_from_dataframe(df_players, 'players_basic', c)\n",
    "\n",
    "# conn.commit()"
   ]
  }
 ],
 "metadata": {
  "kernelspec": {
   "display_name": "Python 3",
   "language": "python",
   "name": "python3"
  },
  "language_info": {
   "codemirror_mode": {
    "name": "ipython",
    "version": 3
   },
   "file_extension": ".py",
   "mimetype": "text/x-python",
   "name": "python",
   "nbconvert_exporter": "python",
   "pygments_lexer": "ipython3",
   "version": "3.8.3"
  }
 },
 "nbformat": 4,
 "nbformat_minor": 2
}
